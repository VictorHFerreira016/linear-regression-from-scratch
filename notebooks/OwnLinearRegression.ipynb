{
 "cells": [
  {
   "cell_type": "markdown",
   "id": "db3356d7",
   "metadata": {},
   "source": [
    "1. Create a class that inputs values of a dataset, and with these values the class with Linear Regression method creates a \"best fitting line\" to the data.\n",
    "2. The function for linear regression is: ^y = a + bx.\n",
    "- ^y: predicted values of y.\n",
    "- b: Y-intercept = level of y when X is 0.\n",
    "- ax: slope = rate of increase/decrease of Y hat for each unit increase in X.\n",
    "3. Do the least squares residuals formula to find the optimal slope and intercept for the formula. ((a * x1 + b) - y1)** 2 + ((a * x2 + b) - y2)**2 + ...\n",
    "4. Take the derivative of SQR related to the slope when it is equals 0."
   ]
  },
  {
   "cell_type": "code",
   "execution_count": 128,
   "id": "795f77c6",
   "metadata": {},
   "outputs": [],
   "source": [
    "import numpy as np\n",
    "import matplotlib.pyplot as plt\n",
    "class LinearRegression:\n",
    "    import numpy as np\n",
    "    # First we get the dependent and independent variables.\n",
    "    def __init__(self, features: np.ndarray, targets: np.ndarray):\n",
    "        self.features = features\n",
    "        self.targets = targets\n",
    "\n",
    "    def calculateInt(self) -> float:\n",
    "        n = len(self.features)\n",
    "        x = self.features\n",
    "        y = self.targets\n",
    "        a = (np.sum(y) * np.sum(x ** 2) - np.sum(x) * np.sum(x * y)) / (n * np.sum(x ** 2) - (np.sum(x)) ** 2)\n",
    "        print(a)\n",
    "        return a\n",
    "    \n",
    "    def calculateSlo(self) -> float:\n",
    "        n = len(self.features)\n",
    "        x = self.features\n",
    "        y = self.targets\n",
    "        m = (n * np.sum(x * y) - np.sum(x) * np.sum(y)) / (n * np.sum(x**2) - (np.sum(x))**2)\n",
    "        print(m)\n",
    "        return m\n",
    "    \n",
    "    def calculateCorr(self) -> float:\n",
    "        n = len(self.features)\n",
    "        x = self.features\n",
    "        y = self.targets\n",
    "        numerator = n*sum(x*y) - sum(x)*sum(y)\n",
    "        denominator = ((n*sum(x**2) - sum(x)**2) * (n*sum(y**2) - sum(y)**2))\n",
    "        r = numerator / (denominator**0.5)\n",
    "        return r\n",
    "    \n",
    "    def calculateRSquared(self) -> float:\n",
    "        rSquared = self.calculateCorr()**2\n",
    "        return rSquared\n",
    "\n",
    "    def calculate(self, x: float) -> float:\n",
    "        y = self.calculateInt() + (self.calculateSlo()*x)\n",
    "        return y\n",
    "    \n",
    "    def show(self):\n",
    "        plt.scatter(self.features, self.targets, color='blue', label=\"Dados reais\")\n",
    "        y_pred = self.calculateInt() + self.calculateSlo() * self.features\n",
    "        plt.plot(self.features, y_pred, color='red', label=\"Regressão Linear\")\n",
    "        plt.xlabel('Features')\n",
    "        plt.ylabel('Targets')\n",
    "        plt.title('Linear Regression')\n",
    "        plt.legend()\n",
    "        plt.grid(True)\n",
    "        plt.show()"
   ]
  },
  {
   "cell_type": "code",
   "execution_count": 129,
   "id": "1e74d29f",
   "metadata": {},
   "outputs": [],
   "source": [
    "import pandas as pd\n",
    "from sklearn.preprocessing import StandardScaler\n",
    "from sklearn.model_selection import train_test_split\n",
    "\n",
    "scaler = StandardScaler()\n",
    "df = pd.read_csv('train.csv')\n",
    "df.head()\n",
    "\n",
    "df['TotalLivingArea'] = df['1stFlrSF'] + df['2ndFlrSF']\n",
    "+ df['LowQualFinSF'] + df['GrLivArea'] + df['BsmtFinSF1'] + df['BsmtFinSF2']\n",
    "\n",
    "#X_scaled = scaler.fit_transform(df['TotalLivingArea'].values.reshape(-1, 1))\n",
    "X = df['TotalLivingArea']\n",
    "y = df['SalePrice']"
   ]
  },
  {
   "cell_type": "code",
   "execution_count": 130,
   "id": "99834e47",
   "metadata": {},
   "outputs": [],
   "source": [
    "model = LinearRegression(X, y)"
   ]
  },
  {
   "cell_type": "code",
   "execution_count": 131,
   "id": "d64987e2",
   "metadata": {},
   "outputs": [
    {
     "name": "stdout",
     "output_type": "stream",
     "text": [
      "109.27661587643642\n"
     ]
    },
    {
     "data": {
      "text/plain": [
       "np.float64(109.28)"
      ]
     },
     "execution_count": 131,
     "metadata": {},
     "output_type": "execute_result"
    }
   ],
   "source": [
    "round(model.calculateSlo(), 2)"
   ]
  },
  {
   "cell_type": "code",
   "execution_count": 132,
   "id": "2ce98f15",
   "metadata": {},
   "outputs": [
    {
     "name": "stdout",
     "output_type": "stream",
     "text": [
      "15955.120847421622\n"
     ]
    },
    {
     "data": {
      "text/plain": [
       "np.float64(15955.12)"
      ]
     },
     "execution_count": 132,
     "metadata": {},
     "output_type": "execute_result"
    }
   ],
   "source": [
    "round(model.calculateInt(), 2)"
   ]
  },
  {
   "cell_type": "code",
   "execution_count": 133,
   "id": "a980cfd3",
   "metadata": {},
   "outputs": [
    {
     "data": {
      "text/plain": [
       "0.7168830793692811"
      ]
     },
     "execution_count": 133,
     "metadata": {},
     "output_type": "execute_result"
    }
   ],
   "source": [
    "model.calculateCorr()"
   ]
  },
  {
   "cell_type": "code",
   "execution_count": 134,
   "id": "1a567ccc",
   "metadata": {},
   "outputs": [
    {
     "data": {
      "text/plain": [
       "0.513921349485983"
      ]
     },
     "execution_count": 134,
     "metadata": {},
     "output_type": "execute_result"
    }
   ],
   "source": [
    "model.calculateRSquared()"
   ]
  },
  {
   "cell_type": "code",
   "execution_count": 135,
   "id": "3ac83a58",
   "metadata": {},
   "outputs": [
    {
     "name": "stdout",
     "output_type": "stream",
     "text": [
      "15955.120847421622\n",
      "109.27661587643642\n"
     ]
    },
    {
     "data": {
      "image/png": "[encoded data removed]",
      "text/plain": [
       "<Figure size 640x480 with 1 Axes>"
      ]
     },
     "metadata": {},
     "output_type": "display_data"
    }
   ],
   "source": [
    "model.show()"
   ]
  },
  {
   "cell_type": "code",
   "execution_count": 136,
   "id": "209ac24e",
   "metadata": {},
   "outputs": [
    {
     "name": "stdout",
     "output_type": "stream",
     "text": [
      "15955.120847421622\n",
      "109.27661587643642\n"
     ]
    },
    {
     "data": {
      "text/plain": [
       "np.float64(343784.97)"
      ]
     },
     "execution_count": 136,
     "metadata": {},
     "output_type": "execute_result"
    }
   ],
   "source": [
    "round(model.calculate(3000), 2)"
   ]
  }
 ],
 "metadata": {
  "kernelspec": {
   "display_name": "Python 3",
   "language": "python",
   "name": "python3"
  },
  "language_info": {
   "codemirror_mode": {
    "name": "ipython",
    "version": 3
   },
   "file_extension": ".py",
   "mimetype": "text/x-python",
   "name": "python",
   "nbconvert_exporter": "python",
   "pygments_lexer": "ipython3",
   "version": "3.12.10"
  }
 },
 "nbformat": 4,
 "nbformat_minor": 5
}
